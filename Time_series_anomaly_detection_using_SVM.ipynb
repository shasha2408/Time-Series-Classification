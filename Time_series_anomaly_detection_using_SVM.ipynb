{
  "nbformat": 4,
  "nbformat_minor": 0,
  "metadata": {
    "colab": {
      "name": "Time series anomaly detection using SVM.ipynb",
      "provenance": [],
      "authorship_tag": "ABX9TyMJVSbBnAplHpwBscIBo12k"
    },
    "kernelspec": {
      "name": "python3",
      "display_name": "Python 3"
    },
    "language_info": {
      "name": "python"
    }
  },
  "cells": [
    {
      "cell_type": "markdown",
      "metadata": {
        "id": "Vs0nRm-NW6MS"
      },
      "source": [
        "#### **Data Info**\n"
      ]
    },
    {
      "cell_type": "code",
      "metadata": {
        "id": "FsNHcB_2WUsx"
      },
      "source": [
        "def dataset_stats(train,test):\n",
        " \n",
        " # information of train and test set\n",
        "\n",
        "  train.info()\n",
        "  test.info()\n",
        "  return \n"
      ],
      "execution_count": null,
      "outputs": []
    },
    {
      "cell_type": "markdown",
      "metadata": {
        "id": "iI8XMzlsW8gi"
      },
      "source": [
        "#### **Train_test_split**"
      ]
    },
    {
      "cell_type": "code",
      "metadata": {
        "id": "SPL3FBezWsVa"
      },
      "source": [
        "def train_test_split(train,test):\n",
        "\n",
        "  # spliting the train and test data in inputs and outputs. \n",
        "\n",
        "    x_train = train.iloc[:,1:]\n",
        "    y_train = train.iloc[:,0]\n",
        "    x_test = test.iloc[:,1:]\n",
        "    y_test = test.iloc[:,0]\n",
        "    print(\"x_train Shape :: \", x_train.shape)\n",
        "    print(\"y_train Shape :: \", y_train.shape)\n",
        "    print(\"x_test Shape :: \", x_test.shape)\n",
        "    print(\"y_test Shape :: \", y_test.shape)\n",
        "   \n",
        "    return  x_train,x_test,y_train,y_test\n"
      ],
      "execution_count": null,
      "outputs": []
    },
    {
      "cell_type": "markdown",
      "metadata": {
        "id": "3TBz30NMW_Eg"
      },
      "source": [
        "#### __Data Scaling__."
      ]
    },
    {
      "cell_type": "code",
      "metadata": {
        "id": "xE0_Rh0MWsYJ"
      },
      "source": [
        "def data_scaling(x_train,x_test):\n",
        "  scaler = StandardScaler()\n",
        "  x_train_scaled = scaler.fit_transform(x_train)\n",
        "  x_test_sclaed  = scaler.fit_transform(x_test)\n",
        "  return x_train_scaled,x_test_sclaed"
      ],
      "execution_count": null,
      "outputs": []
    },
    {
      "cell_type": "markdown",
      "metadata": {
        "id": "mIDJFb_cXB_h"
      },
      "source": [
        "#### __Model_SVM__"
      ]
    },
    {
      "cell_type": "code",
      "metadata": {
        "id": "IdPbgDMHWsao"
      },
      "source": [
        "def Svm_classifier(x_train,y_train ):\n",
        "    from sklearn import svm\n",
        "    clf = svm.SVC()\n",
        "    clf.fit(x_train, y_train)\n",
        "    return clf"
      ],
      "execution_count": null,
      "outputs": []
    },
    {
      "cell_type": "markdown",
      "metadata": {
        "id": "vFcupu--XTDp"
      },
      "source": [
        "## __Evaluation__."
      ]
    },
    {
      "cell_type": "code",
      "metadata": {
        "id": "Kk1LFxWpXVLC"
      },
      "source": [
        "def evaluation(y_test,predictions):\n",
        "  \n",
        "  acc_test = accuracy_score(y_test, predictions)\n",
        "  print('Test Accuracy: %.2f' % acc_test)\n",
        "  print(classification_report(y_test, predictions)),\n",
        "  cm=metrics.confusion_matrix(y_test,predictions)\n",
        "  ax= plt.figure(figsize=(8,4))\n",
        "  ax= plt.subplot()\n",
        "  ax.set_xlabel('Predicted class');ax.set_ylabel('True class'); \n",
        "  ax.set_title('Confusion Matrix for SVM'); \n",
        "  sns.heatmap(cm, annot=True, fmt='g', ax=ax); \n",
        "  ax.xaxis.set_ticklabels(['Normal', 'Abnormal']); ax.yaxis.set_ticklabels(['Normal', 'Abnormal']);\n",
        "  plt.show()\n",
        "  return"
      ],
      "execution_count": null,
      "outputs": []
    },
    {
      "cell_type": "markdown",
      "metadata": {
        "id": "_CtS-KAwXWQR"
      },
      "source": [
        "### __cross validation__"
      ]
    },
    {
      "cell_type": "code",
      "metadata": {
        "id": "b2kSUqe8Wsey"
      },
      "source": [
        "def cross_valid(clf, x_train_scaled,y_train):\n",
        "  from sklearn.model_selection import cross_validate\n",
        "  scores = cross_validate(clf,x_train_scaled,y_train, cv=5, scoring=['accuracy'], return_train_score=True)\n",
        "  print('Train accuracy: ', scores['train_accuracy'])\n",
        "  print('Test accuracy: ', scores['test_accuracy'])\n",
        "  return\n"
      ],
      "execution_count": null,
      "outputs": []
    },
    {
      "cell_type": "markdown",
      "metadata": {
        "id": "WwxcE3irXZUZ"
      },
      "source": [
        "### __Final_model__"
      ]
    },
    {
      "cell_type": "code",
      "metadata": {
        "id": "FUKC2m3OWzd2"
      },
      "source": [
        "def TS_SVC(train,test):\n",
        "\n",
        "   # description of datasets\n",
        "\n",
        "   dataset_stats(train_set,test_set)\n",
        "\n",
        "   # Splitting training adn test into input and output\n",
        "\n",
        "   x_train,x_test,y_train,y_test = train_test_split(train,test)\n",
        "\n",
        "   # data scaling using Standard scaler\n",
        "\n",
        "   x_train_scaled,x_test_scaled = data_scaling(x_train,x_test)\n",
        "\n",
        "   # model training with train data and lebels\n",
        "\n",
        "   trained_model = Svm_classifier(x_train,y_train)\n",
        "   \n",
        "   # Evaluation of mdoel performance on test data\n",
        "\n",
        "   print(\"Trained model :: \", trained_model)\n",
        "   predictions = trained_model.predict(x_test_scaled)\n",
        "   evaluation(y_test,predictions)\n",
        "\n",
        "   # Cross valdition\n",
        "   scores = cross_valid(trained_model, x_train_scaled,y_train)\n",
        "   return \n",
        "   "
      ],
      "execution_count": null,
      "outputs": []
    }
  ]
}