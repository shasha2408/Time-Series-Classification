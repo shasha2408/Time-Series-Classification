{
  "nbformat": 4,
  "nbformat_minor": 0,
  "metadata": {
    "colab": {
      "name": "Time series classification SVM.ipynb",
      "provenance": [],
      "authorship_tag": "ABX9TyNZblrQwgQtCZK0hgdrJ/pS",
      "include_colab_link": true
    },
    "kernelspec": {
      "name": "python3",
      "display_name": "Python 3"
    },
    "language_info": {
      "name": "python"
    }
  },
  "cells": [
    {
      "cell_type": "markdown",
      "metadata": {
        "id": "view-in-github",
        "colab_type": "text"
      },
      "source": [
        "<a href=\"https://colab.research.google.com/github/shasha2408/Time-Series-Classification/blob/main/Time_series_classification_SVM.ipynb\" target=\"_parent\"><img src=\"https://colab.research.google.com/assets/colab-badge.svg\" alt=\"Open In Colab\"/></a>"
      ]
    },
    {
      "cell_type": "code",
      "metadata": {
        "id": "9ka6JDUzOnVm"
      },
      "source": [
        "def TS_SVC(train,test):\n",
        "\n",
        "   # information of train and test set\n",
        "  def dataset_stats(train,test):\n",
        "    train.info()\n",
        "    test.info()\n",
        "    return\n",
        "   # spliting the train and test data in inputs and outputs. \n",
        "    def train_test_split(train,test):  \n",
        "       x_train = train.iloc[:,1:]\n",
        "       y_train = train.iloc[:,0]\n",
        "       x_test = test.iloc[:,1:]\n",
        "       y_test = test.iloc[:,0]\n",
        "       print(\"x_train Shape :: \", x_train.shape)\n",
        "       print(\"y_train Shape :: \", y_train.shape)\n",
        "       print(\"x_test Shape :: \", x_test.shape)\n",
        "       print(\"y_test Shape :: \", y_test.shape)\n",
        "       return  x_train,x_test,y_train,y_test\n",
        "    # data scaling of Train nd test variables\n",
        "       def data_scaling(x_train,x_test):\n",
        "        scaler = StandardScaler()\n",
        "        x_train_scaled = scaler.fit_transform(x_train)\n",
        "        x_test_scaled  = scaler.fit_transform(x_test)\n",
        "\n",
        "        return x_train_scaled,x_test_scaled\n",
        "      # Model Building and Training\n",
        "        def Svm_classifier(x_train,y_train ):\n",
        "            from sklearn import svm\n",
        "            clf = svm.SVC()\n",
        "            clf.fit(x_train, y_train)       \n",
        "            return clf\n",
        "            #Nodel Evaluation with Test data\n",
        "            def evaluation(y_test,predictions):\n",
        "               acc_test = accuracy_score(y_test, predictions)\n",
        "               print('Test Accuracy: %.2f' % acc_test)\n",
        "               print(classification_report(y_test, predictions)),\n",
        "               cm=metrics.confusion_matrix(y_test,predictions)\n",
        "               ax= plt.figure(figsize=(8,4))\n",
        "               ax= plt.subplot()\n",
        "               ax.set_xlabel('Predicted class');ax.set_ylabel('True class'); \n",
        "               ax.set_title('Confusion Matrix for SVM'); \n",
        "               sns.heatmap(cm, annot=True, fmt='g', ax=ax); \n",
        "               ax.xaxis.set_ticklabels(['Normal', 'Abnormal']); ax.yaxis.set_ticklabels(['Normal', 'Abnormal']);\n",
        "               plt.show()\n",
        "               return\n",
        "               def cross_valid(clf, x_train_scaled,y_train):\n",
        "                 from sklearn.model_selection import cross_validate\n",
        "                 scores = cross_validate(clf,x_train_scaled,y_train, cv=5, scoring=['accuracy'], return_train_score=True)\n",
        "                 print('Train accuracy: ', scores['train_accuracy'])\n",
        "                 print('Test accuracy: ', scores['test_accuracy'])\n",
        "                 return\n",
        "                 def cross_valid(clf, x_train_scaled,y_train):\n",
        "\n",
        "                   from sklearn.model_selection import cross_validate\n",
        "                   scores = cross_validate(clf,x_train_scaled,y_train, cv=5, scoring=['accuracy'], return_train_score=True)\n",
        "                   print('Train accuracy: ', scores['train_accuracy'])\n",
        "                   print('Test accuracy: ', scores['test_accuracy'])\n",
        "                   return\n",
        "\n",
        "\n",
        "    return\n",
        "                 \n",
        "\n",
        "\n",
        "\n",
        "\n",
        "\n",
        "\n",
        "\n",
        "\n",
        "\n",
        "\n",
        "\n",
        "             \n",
        "\n",
        "                \n",
        "\n",
        "\n",
        "          \n",
        "\n",
        "\n",
        "\n",
        "\n",
        "\n",
        "\n",
        "\n",
        "\n",
        "\n",
        "\n"
      ],
      "execution_count": 41,
      "outputs": []
    },
    {
      "cell_type": "code",
      "metadata": {
        "id": "bJmW65zaRRrF"
      },
      "source": [
        ""
      ],
      "execution_count": null,
      "outputs": []
    }
  ]
}